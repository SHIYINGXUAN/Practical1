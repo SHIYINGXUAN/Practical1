{
 "cells": [
  {
   "cell_type": "markdown",
   "metadata": {},
   "source": [
    "# Practical 2 : Generative and Discriminative Models\n"
   ]
  },
  {
   "cell_type": "markdown",
   "metadata": {},
   "source": [
    "In this practical, we will compare the Naïve Bayes Classifier (NBC) and Logistic Regression on several\n",
    "datasets. As part of the practical you should read briefly the following paper:\n",
    "\n"
   ]
  },
  {
   "cell_type": "markdown",
   "metadata": {},
   "source": [
    "**On Discriminative vs. Generative classifiers: A comparison of logistic regression\n",
    "and naive Bayes**  \n",
    "*Andrew Y. Ng and Michael I. Jordan*  \n",
    "Advances in Neural Information Processing Systems (NIPS) 2001.\n",
    "\n",
    "The paper is available on OLAT. "
   ]
  },
  {
   "cell_type": "markdown",
   "metadata": {},
   "source": [
    "You should read the Introduction and the Experiments sections. The goal of this practical is\n",
    "to qualitatively reproduce some of the experimental results in this paper. You are strongly\n",
    "encouraged to read the rest of the paper, which is rather short and straightforward to read,\n",
    "though some of you may want to skip the formal proofs."
   ]
  },
  {
   "cell_type": "markdown",
   "metadata": {},
   "source": [
    "## Naïve Bayes Classifier (NBC)"
   ]
  },
  {
   "cell_type": "markdown",
   "metadata": {},
   "source": [
    "You should implement a Naïve Bayes Classifier from scartch using NumPy. To keep your code tidy,\n",
    "we recommend implementing it as a class. \n",
    "The classifier should be able to handle binary and continuous features. \n",
    "To earn the bonus points, the classifier should be able to handle categorical features as well. \n",
    "Suppose the data has 3\n",
    "different features, the first being binary, the second being continuous and the third being categorical. Write an implementation that you can initialise as follows:\n",
    "\n",
    "    nbc = NBC(feature_types=['b', 'r', 'c'])"
   ]
  },
  {
   "cell_type": "markdown",
   "metadata": {},
   "source": [
    "Along the lines of classifiers provided in sklearn, you want to implement two more functions,\n",
    "**fit** and **predict**. \n",
    "Recall the joint distribution of a generative model: $p(\\mathbf{x}, y \\mid \\theta, \\pi) = p(y \\mid \\pi) \\cdot p(\\mathbf{x} \\mid y, \\theta)$.\n",
    "The **fit** function is to estimate all the parameters ($\\theta$ and $\\pi$) of the NBC, i.e., train the classifier. The **predict** function computes the probabilities that the new input belongs to all classes and\n",
    "then returns the class that has the largest probability, i.e., makes a prediction.\n",
    "\n",
    "    nbc.fit(X_train, y_train)\n",
    "    ypredicted = nbc.predict(X_test)\n",
    "    test_accuracy = np.mean(ypredicted == ytest)"
   ]
  },
  {
   "cell_type": "markdown",
   "metadata": {},
   "source": [
    "Here we import the libraries. "
   ]
  },
  {
   "cell_type": "code",
   "execution_count": 38,
   "metadata": {},
   "outputs": [],
   "source": [
    "%matplotlib inline\n",
    "import pylab\n",
    "pylab.rcParams['figure.figsize'] = (10., 10.)\n",
    "\n",
    "import pickle as cp\n",
    "import matplotlib.pyplot as plt\n",
    "import numpy as np\n",
    "\n",
    "from scipy.stats import norm, bernoulli, multinomial\n",
    "from scipy.special import logsumexp"
   ]
  },
  {
   "cell_type": "markdown",
   "metadata": {},
   "source": [
    "### Class-conditional distributions\n",
    "\n",
    "Before implementing NBC, we first implement the class-conditional distributions $p(\\mathbf{x} \\mid y, \\theta)$. Your implementation should have two functions: **estimate** and **get_log_probability**. \n",
    "\n",
    "- The **estimate** function takes data as input and models the data using some distribution $p(x \\mid \\theta)$, where $\\theta$ is the parameters of this distribution. The function estimates the parameters $\\theta$ using maximum likelihood estimators (MLE). \n",
    "For example, in the case of continuous features, we use the Gaussian distribution to model the data. The estimate function will find the parameters $\\mu$ and $\\sigma$ for the Gaussian distribution with respect to the input data. \n",
    "\n",
    "- The **get_log_probability** function takes as input a new data point $x_{new}$ and returns the log of $p(x_{new} \\mid \\theta)$. For the Gaussian distribution, the function get_probability will return $\\mathcal{N}(x_{new} \\mid \\mu, \\sigma^2)$. "
   ]
  },
  {
   "cell_type": "markdown",
   "metadata": {},
   "source": [
    "For different types of features, you need to use different distributions.\n",
    "You can import statistic libraries (e.g., `scipy.stats`) for the implementation of the distributions. \n",
    "\n",
    "- For **continuous features**: Use Gaussian distribution\n",
    "    https://docs.scipy.org/doc/scipy/reference/generated/scipy.stats.norm.html\n",
    "- For **binary features**: Use Bernoulli distribution \n",
    "    https://docs.scipy.org/doc/scipy/reference/generated/scipy.stats.bernoulli.html\n",
    "- For **categorical features**: Use Multinoulli distribution (The multinoulli distribution is a special case of the multinomial distribution, where the number of trials is 1)\n",
    "    https://docs.scipy.org/doc/scipy/reference/generated/scipy.stats.multinomial.html\n",
    "\n",
    "Example: https://stackoverflow.com/questions/12412895/how-to-calculate-probability-in-a-normal-distribution-given-mean-standard-devi\n"
   ]
  },
  {
   "cell_type": "markdown",
   "metadata": {},
   "source": [
    "**Implementation Issues:**\n",
    "- The probabilities can be very small. To avoid underflow issues, you should compute the log of the probabilities. Read more: (Mur) Chapter 3.5.3 / Lecture Notes\n",
    "- The variance for Gaussian distributions should never be exactly 0, so in\n",
    "case your calculated variance is 0, you may want to set it to a small value such as 1e − 6. This is to ensure that your code never encounters division by zero or\n",
    "taking logarithms of 0 errors. \n",
    "For this practical, please set the small value to 1e-6.\n",
    "- Laplace/Additive smoothing: You want to ensure that the estimates for the parameter for the Bernoulli and Multinoulli random variables is never exactly 0 or 1. For this reason you should consider using Laplace smoothing (https://en.wikipedia.org/wiki/Additive_smoothing).\n",
    "For this practical, please set alpha to 1.\n",
    "- For simplicity, you can assume the data values for binary features are integers from {0,1} and the data for a categorical feature with M categories are integers from {0, ..., M-1}.\n",
    "- Fell free to add auxiliary functions or change the parameters of the functions. If you change the parameters of the functions, make sure you change the tests accordingly, so we can test your code.\n"
   ]
  },
  {
   "cell_type": "code",
   "execution_count": null,
   "metadata": {},
   "outputs": [],
   "source": []
  },
  {
   "cell_type": "code",
   "execution_count": 39,
   "metadata": {},
   "outputs": [],
   "source": [
    "ALPHA = 1.0 # for additive smoothing\n",
    "\n",
    "# Distribution for continuous features\n",
    "class ContFeatureParam:\n",
    "    def estimate(self, X):\n",
    "        # TODO: Estimate the parameters for the Gaussian distribution \n",
    "        # so that it best describes the input data X\n",
    "        # The code below is just for compilation. \n",
    "        # You need to replace it by your own code.\n",
    "        ###################################################\n",
    "        ##### YOUR CODE STARTS HERE #######################\n",
    "        ###################################################\n",
    "        self.mean, std = norm.fit(X)\n",
    "        self.std = np.sqrt(1e-6) if std==0 else std#get mean and standard variance of the data\n",
    "        return self\n",
    "        ###################################################\n",
    "        ##### YOUR CODE ENDS HERE #########################\n",
    "        ###################################################\n",
    "\n",
    "    def get_log_probability(self, X_new):\n",
    "        # TODO: return the log of the density values for the input values X_new\n",
    "        # The code below is just for compilation. \n",
    "        # You need to replace it by your own code.\n",
    "        ###################################################\n",
    "        ##### YOUR CODE STARTS HERE #######################\n",
    "        ###################################################\n",
    "        return norm.logpdf(X_new, loc=self.mean, scale=self.std)\n",
    "        ###################################################\n",
    "        ##### YOUR CODE ENDS HERE #########################\n",
    "        ###################################################\n",
    "\n",
    "# Distribution for binary features\n",
    "class BinFeatureParam:\n",
    "    def estimate(self, X):\n",
    "        # TODO: Estimate the parameters for the Bernoulli distribution \n",
    "        # so that it best describes the input data X\n",
    "        # The code below is just for compilation. \n",
    "        # You need to replace it by your own code.\n",
    "        ###################################################\n",
    "        ##### YOUR CODE STARTS HERE #######################\n",
    "        ###################################################\n",
    "        # X is a vector with binary values\n",
    "        occurences = X.shape[0]\n",
    "        unique, counts = np.unique(X, return_counts=True)#Assume that the input belong to {0,1}\n",
    "        if unique.shape[0] > 2:\n",
    "            raise AssertionError(\"more than 2 categories in binary\")\n",
    "\n",
    "        self.prob = (counts[0]+ALPHA) / (occurences + ALPHA*unique.shape[0])# get the frequency of '0' and smoothing\n",
    "        #self.prob = bernoulli.expect(X)\n",
    "        return self\n",
    "        ###################################################\n",
    "        ##### YOUR CODE ENDS HERE #########################\n",
    "        ###################################################\n",
    "\n",
    "    def get_log_probability(self, X_new):\n",
    "        # TODO: return the log of the probability values for the input values X_new\n",
    "        # The code below is just for compilation. \n",
    "        # You need to replace it by your own code.\n",
    "        ###################################################\n",
    "        ##### YOUR CODE STARTS HERE #######################\n",
    "        ###################################################\n",
    "        return bernoulli.logpmf(X_new, 1 - self.prob)\n",
    "        ###################################################\n",
    "        ##### YOUR CODE ENDS HERE #########################\n",
    "        ###################################################\n",
    "\n",
    "# Distribution for categorical features\n",
    "class CatFeatureParam:\n",
    "    \n",
    "    # we need to know the number of categories for the categorical feature\n",
    "    def __init__(self, num_of_categories):\n",
    "        self._num_of_categories = num_of_categories\n",
    "    \n",
    "    def estimate(self, X):\n",
    "        # TODO: Estimate the parameters for the Multinoulli distribution \n",
    "        # so that it best describes the input data X\n",
    "        # The code below is just for compilation. \n",
    "        # You need to replace it by your own code.\n",
    "        ###################################################\n",
    "        ##### YOUR CODE STARTS HERE #######################\n",
    "        ###################################################\n",
    "        times_observed = X.shape[0]\n",
    "        self.cat_observed, cat_observed_counts = np.unique(X, return_counts=True)\n",
    "        num_cat_observed = self.cat_observed.shape[0]\n",
    "        self.prob_vec_observed = (cat_observed_counts + ALPHA) / (times_observed + ALPHA * self._num_of_categories)\n",
    "        #get the frequency vector of input data and smoothing\n",
    "        self.prob_not_observed = (1 - sum(self.prob_vec_observed)) / (self._num_of_categories - num_cat_observed) if self._num_of_categories != num_cat_observed else 0\n",
    "        #for the categories not observed, set the their probabilty to the average of residuals of (1-sum(probabilties))\n",
    "        return self\n",
    "        ###################################################\n",
    "        ##### YOUR CODE ENDS HERE #########################\n",
    "        ###################################################\n",
    "        \n",
    "    def get_log_probability(self, X_new):\n",
    "        # TODO: return the log of the probability values for the input values X_new\n",
    "        # The code below is just for compilation. \n",
    "        # You need to replace it by your own code.\n",
    "        ###################################################\n",
    "        ##### YOUR CODE STARTS HERE #######################\n",
    "        ###################################################\n",
    "        times_observing = X_new.shape[0]\n",
    "        cat_observing, cat_observing_counts = np.unique(X_new, return_counts=True)\n",
    "        prob_vec_observing = np.zeros((cat_observing.shape[0],))\n",
    "        for i in range(cat_observing.shape[0]):\n",
    "            if cat_observing[i] in self.cat_observed:\n",
    "                prob_vec_observing[i] = self.prob_vec_observed[np.argwhere(self.cat_observed==cat_observing[i])]\n",
    "            else:\n",
    "                prob_vec_observing[i]=self.prob_not_observed\n",
    "        #generate probability vector of predicting data\n",
    "        observing = np.zeros((times_observing, cat_observing.shape[0]))#Build the observing matrix just like one-hot encoding\n",
    "        for i in range(times_observing):\n",
    "            j = np.argwhere(cat_observing==X_new[i])\n",
    "            observing[i,j] = 1.0\n",
    "        n = np.ones((times_observing,))\n",
    "        return multinomial.logpmf(observing, n, prob_vec_observing)\n",
    "        ###################################################\n",
    "        ##### YOUR CODE ENDS HERE #########################\n",
    "        ###################################################"
   ]
  },
  {
   "cell_type": "markdown",
   "metadata": {},
   "source": [
    "**Tests:**\n",
    "    \n",
    "We will use the code below to test the correctness of your code."
   ]
  },
  {
   "cell_type": "code",
   "execution_count": 40,
   "metadata": {},
   "outputs": [
    {
     "name": "stdout",
     "output_type": "stream",
     "text": [
      "[-5.64670664 -3.02757918 -1.44567455 -0.90099277]\n"
     ]
    }
   ],
   "source": [
    "# continuous features\n",
    "\n",
    "X = np.array([2.70508547,2.10499698,1.76019132,3.42016431,3.47037973,3.67435061,1.84749286,4.3388506,2.27818252,4.65165335])\n",
    "\n",
    "param = ContFeatureParam()\n",
    "param.estimate(X)\n",
    "probs = param.get_log_probability(np.array([0,1,2,3]))\n",
    "print(probs)"
   ]
  },
  {
   "cell_type": "code",
   "execution_count": 41,
   "metadata": {},
   "outputs": [
    {
     "name": "stdout",
     "output_type": "stream",
     "text": [
      "[-0.87546874 -0.5389965 ]\n"
     ]
    }
   ],
   "source": [
    "# binary features\n",
    "\n",
    "X = np.array([0,0,1,1,0,1,0,1,1,1])\n",
    "\n",
    "param = BinFeatureParam()\n",
    "param.estimate(X)\n",
    "probs = param.get_log_probability(np.array([0,1]))\n",
    "print(probs)"
   ]
  },
  {
   "cell_type": "code",
   "execution_count": 42,
   "metadata": {},
   "outputs": [
    {
     "name": "stdout",
     "output_type": "stream",
     "text": [
      "[-1.94591015 -2.1690537  -1.94591015 -2.45673577 -2.1690537  -2.86220088\n",
      " -1.94591015 -3.55534806 -2.1690537  -2.86220088]\n"
     ]
    }
   ],
   "source": [
    "# categorical features (bonus task)\n",
    "\n",
    "X = np.array([0,6,5,4,0,6,6,4,1,1,2,3,8,8,1,6,4,9,0,2,2,3,8,0,2])\n",
    "\n",
    "param = CatFeatureParam(num_of_categories=10)\n",
    "param.estimate(X)\n",
    "probs = param.get_log_probability(np.array([0,1,2,3,4,5,6,7,8,9]))\n",
    "print(probs)"
   ]
  },
  {
   "cell_type": "markdown",
   "metadata": {},
   "source": [
    "### Implement NBC\n",
    "\n",
    "We are now ready to implement NBC. We follow the structure of models in scikit-learn. We implement NBC as a class with functions **init**, **fit** and **predict**.\n",
    "The **init** function takes as input the types of features and initialise the classifier. The **fit** function takes the training data as input and estimates the parameters. The **predict** function predicts the label for the input data. "
   ]
  },
  {
   "cell_type": "markdown",
   "metadata": {},
   "source": [
    "**Implementation Issues:**\n",
    "- You should use matrix operations rather than loops. In general, loops over classes or features are OK, but loops over the rows of data are not a good idea.\n",
    "- The probabilities can be very small. To avoid underflow issues, you should do the calculations in log space. Read more: (Mur) Chapter 3.5.3 / Lecture Note\n",
    "- For simplicity, you can assume the data values for binary features are integers from {0, 1} and the data for a categorical feature with M categories are integers from {0, ..., M-1}.\n",
    "- Fell free to add auxiliary functions or change the parameters of the functions. If you change the parameters of the functions, make sure you change the tests accordingly, so we can test your code."
   ]
  },
  {
   "cell_type": "code",
   "execution_count": 61,
   "metadata": {},
   "outputs": [],
   "source": [
    "# Your task is to implement the three functions of NBC. \n",
    "\n",
    "class NBC:\n",
    "    # Inputs:\n",
    "    #   feature_types: the array of the types of the features, e.g., feature_types=['b', 'r', 'c']\n",
    "    def __init__(self, feature_types=[]):\n",
    "        # TODO: \n",
    "        # The code below is just for compilation. \n",
    "        # You need to replace it by your own code.\n",
    "        ###################################################\n",
    "        ##### YOUR CODE STARTS HERE #######################\n",
    "        ###################################################\n",
    "        self.feature_types = feature_types\n",
    "        self.feature_num = len(feature_types)\n",
    "        self.model_list = []\n",
    "        ###################################################\n",
    "        ##### YOUR CODE ENDS HERE #########################\n",
    "        ###################################################\n",
    "\n",
    "        \n",
    "    # The function uses the input data to estimate all the parameters of the NBC\n",
    "    def fit(self, X, y):\n",
    "        # TODO: \n",
    "        # The code below is just for compilation. \n",
    "        # You need to replace it by your own code.\n",
    "        ###################################################\n",
    "        ##### YOUR CODE STARTS HERE #######################\n",
    "        ###################################################\n",
    "        self.y_unique, y_count = np.unique(y, return_counts=True)\n",
    "        self.y_log_probability = np.log(y_count/sum(y_count))\n",
    "        model_list=[]\n",
    "        for y_idx in range(self.y_unique.shape[0]):\n",
    "            sub_model_list=[]\n",
    "            for i in range(self.feature_num):\n",
    "                X_obs = np.array(X[y == self.y_unique[y_idx], i]) # observations in X for specific class and feature\n",
    "                if self.feature_types[i] == 'r':\n",
    "                    sub_model_list.append(ContFeatureParam().estimate(X_obs))\n",
    "                if self.feature_types[i] == 'b':\n",
    "                    sub_model_list.append(BinFeatureParam().estimate(X_obs))\n",
    "                if self.feature_types[i] == 'c':\n",
    "                    num_of_cat = max(X[:,i]) + 1\n",
    "                    sub_model_list.append(CatFeatureParam(num_of_cat).estimate(X_obs))\n",
    "            model_list.append(sub_model_list)\n",
    "        self.model_list = model_list\n",
    "        return self\n",
    "        ###################################################\n",
    "        ##### YOUR CODE ENDS HERE #########################\n",
    "        ###################################################\n",
    "                \n",
    "                \n",
    "    # The function takes the data X as input, and predicts the class for the data\n",
    "    def predict(self, X):\n",
    "        # TODO: \n",
    "        # The code below is just for compilation. \n",
    "        # You need to replace it by your own code.\n",
    "        ###################################################\n",
    "        ##### YOUR CODE STARTS HERE #######################\n",
    "        ###################################################\n",
    "        numerator = np.zeros((X.shape[0], self.y_unique.shape[0])) + self.y_log_probability\n",
    "        for i in range(self.y_unique.shape[0]):       #bayes formula\n",
    "            for j in range(self.feature_num):\n",
    "                numerator[:,i] += self.model_list[i][j].get_log_probability(X[:,j])\n",
    "        return self.y_unique[np.argmax(numerator, axis=1)]\n",
    "        ###################################################\n",
    "        ##### YOUR CODE ENDS HERE #########################\n",
    "        ###################################################\n"
   ]
  },
  {
   "cell_type": "markdown",
   "metadata": {},
   "source": [
    "**Tests**\n",
    "\n",
    "We will use the code below to check your code."
   ]
  },
  {
   "cell_type": "code",
   "execution_count": 62,
   "metadata": {},
   "outputs": [
    {
     "name": "stdout",
     "output_type": "stream",
     "text": [
      "Accuracy: 0.9333333333333333\n",
      "[2 2 2 2 2 2 2 2 2 2 2 2 2 1 1 2 2 2 2 2 2 2 2 2 2 2 2 2 2 2]\n"
     ]
    }
   ],
   "source": [
    "# All features of the iris dataset are continuous.\n",
    "\n",
    "from sklearn.datasets import load_iris\n",
    "iris = load_iris()\n",
    "X, y = iris['data'], iris['target']\n",
    "\n",
    "N, D = X.shape\n",
    "Ntrain = int(0.8 * N)\n",
    "Xtrain = X[:Ntrain]\n",
    "ytrain = y[:Ntrain]\n",
    "Xtest = X[Ntrain:]\n",
    "ytest = y[Ntrain:]\n",
    "\n",
    "\n",
    "nbc_iris = NBC(feature_types=['r', 'r', 'r', 'r'])\n",
    "nbc_iris.fit(Xtrain, ytrain)\n",
    "yhat = nbc_iris.predict(Xtest)\n",
    "test_accuracy = np.mean(yhat == ytest)\n",
    "\n",
    "print(\"Accuracy:\", test_accuracy) # should be larger than 90%\n",
    "print(yhat)"
   ]
  },
  {
   "cell_type": "code",
   "execution_count": 63,
   "metadata": {},
   "outputs": [
    {
     "name": "stdout",
     "output_type": "stream",
     "text": [
      "Accuracy: 0.8723404255319149\n",
      "[1 0 1 1 0 1 1 0 0 1 1 1 0 1 1 1 1 1 0 1 1 0 1 0 0 1 1 1 0 1 1 1 0 1 0 1 0\n",
      " 0 0 1 0 0 0 0 1 1 0]\n"
     ]
    }
   ],
   "source": [
    "# All features of this dataset are binary\n",
    "import pandas as pd\n",
    "data = pd.read_csv('./datasets/binary_test.csv', header=None)\n",
    "data = data.to_numpy()\n",
    "\n",
    "X = data[:,1:]\n",
    "y = data[:,0]\n",
    "\n",
    "N, D = X.shape\n",
    "Ntrain = int(0.8 * N)\n",
    "Xtrain = X[:Ntrain]\n",
    "ytrain = y[:Ntrain]\n",
    "Xtest = X[Ntrain:]\n",
    "ytest = y[Ntrain:]\n",
    "\n",
    "\n",
    "nbc = NBC(feature_types=['b'] * 16)\n",
    "nbc.fit(Xtrain, ytrain)\n",
    "yhat = nbc.predict(Xtest)\n",
    "test_accuracy = np.mean(yhat == ytest)\n",
    "\n",
    "print(\"Accuracy:\", test_accuracy) # should be larger than 85%\n",
    "print(yhat)"
   ]
  },
  {
   "cell_type": "code",
   "execution_count": 64,
   "metadata": {},
   "outputs": [
    {
     "name": "stdout",
     "output_type": "stream",
     "text": [
      "Accuracy: 0.7068965517241379\n",
      "[0 1 0 1 1 0 0 1 0 1 0 0 1 0 1 0 0 0 0 0 0 0 1 0 0 1 1 0 1 0 1 0 0 0 0 1 0\n",
      " 1 0 0 0 0 0 0 1 0 0 0 0 0 0 0 1 0 0 0 0 0]\n"
     ]
    }
   ],
   "source": [
    "# All features of this dataset are categorical (bonus task)\n",
    "\n",
    "data = pd.read_csv('./datasets/categorical_test.csv', header=None)\n",
    "data = data.to_numpy()\n",
    "\n",
    "X = data[:,:-1]\n",
    "y = data[:,-1]\n",
    "\n",
    "N, D = X.shape\n",
    "Ntrain = int(0.8 * N)\n",
    "Xtrain = X[:Ntrain]\n",
    "ytrain = y[:Ntrain]\n",
    "Xtest = X[Ntrain:]\n",
    "ytest = y[Ntrain:]\n",
    "\n",
    "\n",
    "nbc = NBC(feature_types=['c'] * 9)\n",
    "nbc.fit(Xtrain, ytrain)\n",
    "yhat = nbc.predict(Xtest)\n",
    "test_accuracy = np.mean(yhat == ytest)\n",
    "\n",
    "print(\"Accuracy:\", test_accuracy) # should be larger than 65%\n",
    "print(yhat) "
   ]
  },
  {
   "cell_type": "markdown",
   "metadata": {},
   "source": [
    "## Logistic Regression"
   ]
  },
  {
   "cell_type": "markdown",
   "metadata": {},
   "source": [
    "For logistic regression (LR), you should use the implementation in scikit-learn. Add the following\n",
    "line to import the LR model."
   ]
  },
  {
   "cell_type": "code",
   "execution_count": 65,
   "metadata": {},
   "outputs": [],
   "source": [
    "from sklearn.linear_model import LogisticRegression"
   ]
  },
  {
   "cell_type": "markdown",
   "metadata": {},
   "source": [
    "Check the scikit-learn documentation for the Logistic Regression model:\n",
    "- http://scikit-learn.org/stable/modules/linear_model.html#logistic-regression\n",
    "- http://scikit-learn.org/stable/modules/generated/sklearn.linear_model.LogisticRegression.html#sklearn.linear_model.LogisticRegression\n"
   ]
  },
  {
   "cell_type": "markdown",
   "metadata": {},
   "source": [
    "## Comparing NBC and LR"
   ]
  },
  {
   "cell_type": "markdown",
   "metadata": {},
   "source": [
    "### Experiments\n",
    "\n",
    "The experiment is to compare the classification error of the NBC and LR trained on increasingly larger training datasets. \n",
    "Since the datasets are so small, you should do this multiple times and\n",
    "average the classification error. One run should look as follows:\n",
    "- Shuffle the data, put 20% aside for testing.\n",
    "    \n",
    "    ```N, D = X.shape\n",
    "    Ntrain = int(0.8 * N)\n",
    "    shuffler = np.random.permutation(N)\n",
    "    Xtrain = X[shuffler[:Ntrain]]\n",
    "    ytrain = y[shuffler[:Ntrain]]\n",
    "    Xtest = X[shuffler[Ntrain:]]\n",
    "    ytest = y[shuffler[Ntrain:]]\n",
    "    \n",
    "    ```  \n",
    "\n",
    "\n",
    "- Train the classifiers with increasingly more data. For example, we can train classifiers with 10%, 20%, ..., 100% of the training data. For each case store the classification errors on the test set of the classifiers.\n",
    "\n",
    "You may want to repeat this with at least 200 random permutations (possibly as large as 1000)\n",
    "to average out the test error across the runs. In the end, you will get average test errors as a function of the size of the training data. \n",
    "We have written for you the function for making the plots for the experiments. "
   ]
  },
  {
   "cell_type": "code",
   "execution_count": 66,
   "metadata": {},
   "outputs": [],
   "source": [
    "# inputs:\n",
    "#   nbc: Naive Bayes Classifier\n",
    "#   lr: Logistic Regression Classifier\n",
    "#   X, y: data\n",
    "#   num_runs: we need repeat num_runs times and store average results\n",
    "#   num_splits: we want to compare the two models on increasingly larger training sets.\n",
    "#               num_splits defines the number of increasing steps. \n",
    "# outputs:\n",
    "#   the arrays of the test errors across the runs of the two classifiers \n",
    "def compareNBCvsLR(nbc, lr, X, y, num_runs=200, num_splits=10):\n",
    "    # The code below is just for compilation. \n",
    "    # You need to replace it by your own code.\n",
    "    ###################################################\n",
    "    ##### YOUR CODE STARTS HERE #######################\n",
    "    ###################################################\n",
    "    tst_errs_nbc = []\n",
    "    tst_errs_lr = [] #create the error matrix\n",
    "    \n",
    "    for i in range(num_runs):\n",
    "        \n",
    "        tst_errs_nbc_temp = []\n",
    "        tst_errs_lr_temp = [] # error rate array for each run\n",
    "        \n",
    "        for j in range(num_splits):\n",
    "            N,D = X.shape\n",
    "            Ntrain_init = int(0.8 * N)\n",
    "            shuffler = np.random.permutation(N)\n",
    "            Xtrain_init = X[shuffler[:Ntrain_init]]\n",
    "            ytrain_init = y[shuffler[:Ntrain_init]]\n",
    "            Xtest = X[shuffler[Ntrain_init:]]\n",
    "            ytest = y[shuffler[Ntrain_init:]]\n",
    "            \n",
    "\n",
    "            Ntrain = int((j+1)/ num_splits * Xtrain_init.shape[0])\n",
    "            shuffler = np.random.permutation(Xtrain_init.shape[0])\n",
    "            Xtrain = Xtrain_init[shuffler[:Ntrain]]\n",
    "            ytrain = ytrain_init[shuffler[:Ntrain]]\n",
    "            \n",
    "            while(len(np.unique(ytrain)) < 2):\n",
    "                shuffler = np.random.permutation(Xtrain_init.shape[0])\n",
    "                Xtrain = Xtrain_init[shuffler[:Ntrain]]\n",
    "                ytrain = ytrain_init[shuffler[:Ntrain]]\n",
    "            \n",
    "            nbc.fit(Xtrain, ytrain)\n",
    "            lr.fit(Xtrain, ytrain)#train the models\n",
    "            y_nbc_predict = nbc.predict(Xtest)\n",
    "            y_lr_predict = lr.predict(Xtest)#get the predict outcome\n",
    "            \n",
    "            tst_errs_nbc_temp.append(np.mean(y_nbc_predict != ytest))\n",
    "            tst_errs_lr_temp.append(np.mean(y_lr_predict != ytest))\n",
    "        \n",
    "        tst_errs_nbc.append(tst_errs_nbc_temp)\n",
    "        tst_errs_lr.append(tst_errs_lr_temp)\n",
    "    \n",
    "    tst_errs_nbc = np.mean(tst_errs_nbc, axis = 0)\n",
    "    tst_errs_lr = np.mean(tst_errs_lr, axis = 0)\n",
    "            \n",
    "    return tst_errs_nbc, tst_errs_lr\n",
    "    ###################################################\n",
    "    ##### YOUR CODE ENDS HERE #########################\n",
    "    ###################################################"
   ]
  },
  {
   "cell_type": "code",
   "execution_count": 67,
   "metadata": {},
   "outputs": [],
   "source": [
    "def makePlot(tst_errs_nbc, tst_errs_lr, title=None, num_splits=10):\n",
    "    fig = plt.figure()\n",
    "    ax = fig.add_subplot(1, 1, 1)\n",
    "\n",
    "    ax.tick_params(axis='both', labelsize=20)\n",
    "\n",
    "    ax.set_xlabel('Percent of training data used', fontsize=20)\n",
    "    ax.set_ylabel('Classification Error', fontsize=20)\n",
    "    if title is not None: ax.set_title(title, fontsize=25)\n",
    "\n",
    "    xaxis_scale = [(i + 1) * (100/num_splits) for i in range(num_splits)]\n",
    "    plt.plot(xaxis_scale, tst_errs_nbc, label='Naive Bayes')\n",
    "    plt.plot(xaxis_scale, tst_errs_lr, label='Logistic Regression', linestyle='dashed')\n",
    "    \n",
    "    ax.legend(loc='upper right', fontsize=20)"
   ]
  },
  {
   "cell_type": "markdown",
   "metadata": {},
   "source": [
    "### Datasets"
   ]
  },
  {
   "cell_type": "markdown",
   "metadata": {},
   "source": [
    "Tasks: For each dataset,\n",
    "1. prepare the data for the two classifiers, e.g., handle missing values, handle text/categorical data, etc.\n",
    "2. compare the two classifiers on the dataset and generate the plots\n",
    "3. write a short report of how you prepare the data and your observations of the comparison "
   ]
  },
  {
   "cell_type": "markdown",
   "metadata": {},
   "source": [
    "**Dataset 1: Iris Dataset**\n",
    "\n",
    "https://scikit-learn.org/stable/auto_examples/datasets/plot_iris_dataset.html"
   ]
  },
  {
   "cell_type": "code",
   "execution_count": 68,
   "metadata": {},
   "outputs": [
    {
     "data": {
      "image/png": "[encoded data removed]",
      "text/plain": [
       "<Figure size 720x720 with 1 Axes>"
      ]
     },
     "metadata": {
      "needs_background": "light"
     },
     "output_type": "display_data"
    }
   ],
   "source": [
    "# TODO: insert your code for experiments\n",
    "###################################################\n",
    "##### YOUR CODE STARTS HERE #######################\n",
    "###################################################\n",
    "from sklearn.datasets import load_iris\n",
    "iris_obj = load_iris()\n",
    "# the code transform the iris dataset to a dataframe\n",
    "iris = pd.DataFrame(iris_obj.data, columns=iris_obj.feature_names,index=pd.Index([i for i in range(iris_obj.data.shape[0])])).join(pd.DataFrame(iris_obj.target, columns=pd.Index([\"species\"]), index=pd.Index([i for i in range(iris_obj.target.shape[0])])))\n",
    "iris.dropna(axis = 0, how = 'any').reset_index() #drop missing values\n",
    "X=np.array(iris[['sepal length (cm)','sepal width (cm)','petal length (cm)','petal width (cm)']].values)\n",
    "y=np.array(iris[['species']].values.tolist()).T.reshape(len(iris[['species']]))\n",
    "nbc_iris = NBC(feature_types=['r','r','r','r'])\n",
    "lr_iris = LogisticRegression(solver='newton-cg')#build the model\n",
    "tst_errs_nbc, tst_errs_lr = compareNBCvsLR(nbc_iris, lr_iris, X, y, num_runs = 1000)\n",
    "makePlot(tst_errs_nbc, tst_errs_lr)\n",
    "###################################################\n",
    "##### YOUR CODE ENDS HERE #########################\n",
    "###################################################"
   ]
  },
  {
   "cell_type": "markdown",
   "metadata": {},
   "source": [
    "For this data set, the features(length or width of sepal/petal) are continous distributed, so I set the kind of feature to 'r'. Then I dropped the missing value by using dropna(), but there is actually no missing values. In this example, when the training dataset is small (less than 20% of the dataset is used, which is about 30 data points), Logistic regression has lower error rate. When between 20% to 40% of training data is being used, NBC has slightly lower error rate. And as larger training dataset is being used (more than 40%, which is more than 60 data points), the two methods' performance is almost the same, but logistic regression has slightly better performance."
   ]
  },
  {
   "cell_type": "markdown",
   "metadata": {},
   "source": [
    "**Dataset 2: Voting Dataset**\n",
    "\n",
    "https://archive.ics.uci.edu/ml/datasets/congressional+voting+records\n",
    "\n",
    "The logistic regression line meets the naive bayes line early in the plot. To see it clearer, you should use only 100 data points from the dataset for this experiment."
   ]
  },
  {
   "cell_type": "code",
   "execution_count": 69,
   "metadata": {},
   "outputs": [
    {
     "data": {
      "image/png": "[encoded data removed]",
      "text/plain": [
       "<Figure size 720x720 with 1 Axes>"
      ]
     },
     "metadata": {
      "needs_background": "light"
     },
     "output_type": "display_data"
    }
   ],
   "source": [
    "# load the dataset\n",
    "# TODO: insert your code for experiments\n",
    "###################################################\n",
    "##### YOUR CODE STARTS HERE #######################\n",
    "###################################################\n",
    "voting = pd.read_csv('./datasets/voting.csv')\n",
    "#voting.info()\n",
    "voting = voting.dropna(axis = 0, how = 'any')\n",
    "voting = voting.reset_index(drop=True)\n",
    "voting = voting.replace(to_replace = ['y','n'],value = [1, 0])\n",
    "\n",
    "X = np.array(voting[voting.columns[1:]].values)\n",
    "y = np.array(voting['label'])\n",
    "\n",
    "shuffler = np.random.RandomState(seed=42).permutation(X.shape[0])\n",
    "X = X[shuffler[:100]]\n",
    "y = y[shuffler[:100]]\n",
    "\n",
    "nbc_voting = NBC(feature_types=['b'] * 16)\n",
    "lr_voting = LogisticRegression(solver='newton-cg')\n",
    "tst_errs_nbc_voting, tst_errs_lr_voting = compareNBCvsLR(nbc_voting, lr_voting, X, y, num_runs=1000)\n",
    "makePlot(tst_errs_nbc_voting, tst_errs_lr_voting)\n",
    "###################################################\n",
    "##### YOUR CODE ENDS HERE #########################\n",
    "###################################################"
   ]
  },
  {
   "cell_type": "markdown",
   "metadata": {},
   "source": [
    "Firstly I delete all missing values. The values of 16 feactures are 'y' or 'n'(only two values), so I change the values to '1' or '0' and assume they are binary distributed. Then I randomly choose 100 data points from the dataset, and set the seed to make sure every run is using the same data points. In this example, the logistic regression performs better than NBC in all time. But as more data points is being used, NBC's error rate decreases."
   ]
  },
  {
   "cell_type": "code",
   "execution_count": null,
   "metadata": {},
   "outputs": [],
   "source": []
  }
 ],
 "metadata": {
  "kernelspec": {
   "display_name": "Python 3",
   "language": "python",
   "name": "python3"
  },
  "language_info": {
   "codemirror_mode": {
    "name": "ipython",
    "version": 3
   },
   "file_extension": ".py",
   "mimetype": "text/x-python",
   "name": "python",
   "nbconvert_exporter": "python",
   "pygments_lexer": "ipython3",
   "version": "3.8.8"
  },
  "vscode": {
   "interpreter": {
    "hash": "aee8b7b246df8f9039afb4144a1f6fd8d2ca17a180786b69acc140d282b71a49"
   }
  }
 },
 "nbformat": 4,
 "nbformat_minor": 4
}
